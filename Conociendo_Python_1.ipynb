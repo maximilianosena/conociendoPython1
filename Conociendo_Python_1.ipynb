{
  "nbformat": 4,
  "nbformat_minor": 0,
  "metadata": {
    "colab": {
      "provenance": [],
      "authorship_tag": "ABX9TyOZtpXE+Srd2vstwAdIJt9n",
      "include_colab_link": true
    },
    "kernelspec": {
      "name": "python3",
      "display_name": "Python 3"
    },
    "language_info": {
      "name": "python"
    }
  },
  "cells": [
    {
      "cell_type": "markdown",
      "metadata": {
        "id": "view-in-github",
        "colab_type": "text"
      },
      "source": [
        "<a href=\"https://colab.research.google.com/github/maximilianosena/conociendoPython1/blob/main/Conociendo_Python_1.ipynb\" target=\"_parent\"><img src=\"https://colab.research.google.com/assets/colab-badge.svg\" alt=\"Open In Colab\"/></a>"
      ]
    },
    {
      "cell_type": "code",
      "execution_count": null,
      "metadata": {
        "colab": {
          "base_uri": "https://localhost:8080/"
        },
        "id": "Rv6G40sigGn6",
        "outputId": "23f2bbad-0aab-4860-893c-489f29917245"
      },
      "outputs": [
        {
          "output_type": "stream",
          "name": "stdout",
          "text": [
            "Ventas realizadas: 500\n",
            "Su salario es de $550.0\n"
          ]
        }
      ],
      "source": [
        "total_ventas = int(input(\"Ventas realizadas: \")) ##Consulto las ventas que realizó\n",
        "salario_base = 500\n",
        "comisión = total_ventas *0.1 ##Calculo su comisión en base a las ventas realizadas\n",
        "salario_total = salario_base + comisión  ##Creo una variable donde suma su salario base más la comisión generada\n",
        "\n",
        "print(f\"Su salario es de ${salario_total}\")   ##Le imprimo en pantalla su salario total"
      ]
    },
    {
      "cell_type": "code",
      "source": [
        "catalogo_frutas = {}\n",
        "\n",
        " ##agrego frutas con sus respectivos precios al diccionario vacío\n",
        "catalogo_frutas[\"banana\"]=20\n",
        "catalogo_frutas[\"manzana\"]=10\n",
        "catalogo_frutas[\"uvas\"]=30\n",
        "\n",
        "fruta_deseada = input(\"Ingrese la fruta que busca: \") ##Creo una variable donde obtengo la clave a buscar en mi catalogo\n",
        "\n",
        "##Busco el string digitado, dentro de mi diccionario, y si no se encuentra, le imprime el aviso de ello.\n",
        "print(catalogo_frutas.get(fruta_deseada, \"Esa fruta no se encuentra en nuestra tienda.\"))\n"
      ],
      "metadata": {
        "colab": {
          "base_uri": "https://localhost:8080/"
        },
        "id": "UaMy6LYthuFW",
        "outputId": "b51cc845-cf41-45fe-9049-1a2684c43a6e"
      },
      "execution_count": null,
      "outputs": [
        {
          "output_type": "stream",
          "name": "stdout",
          "text": [
            "Ingrese la fruta que busca: pomelo\n",
            "Esa fruta no se encuentra en nuestra tienda.\n"
          ]
        }
      ]
    },
    {
      "cell_type": "code",
      "source": [
        "import random\n",
        "\n",
        "##Luego de importar random, genero dos variables para los dados, que van a generar un numero aleatorio entre 1 y 6\n",
        "dado1 = random.randint (1,6)\n",
        "dado2 = random.randint (1,6)\n",
        "\n",
        "##Dichos valores los sumo en la variable suma_Dados\n",
        "suma_Dados = dado1 + dado2\n",
        "\n",
        "##Imprimo en pantalla todos los resultados\n",
        "print(f\"El dado 1 vale: {dado1}\")\n",
        "print(f\"El dado 2 vale: {dado2}\")\n",
        "print(f\"La suma de los dados es: {suma_Dados}\")"
      ],
      "metadata": {
        "colab": {
          "base_uri": "https://localhost:8080/"
        },
        "id": "QKor0Aeukicx",
        "outputId": "1f718793-e376-47d3-bfae-88d611443f09"
      },
      "execution_count": null,
      "outputs": [
        {
          "output_type": "stream",
          "name": "stdout",
          "text": [
            "El dado 1 vale: 2\n",
            "El dado 2 vale: 3\n",
            "La suma de los dados es: 5\n"
          ]
        }
      ]
    },
    {
      "cell_type": "code",
      "source": [
        "limiteCalorico = float(input(\"Cuantas calorías puede consumir diariamente?: \"))\n",
        "caloriasChocolate = float(input(\"Cuantas calorías tiene una porción de chocolate?: \"))\n",
        "\n",
        "chocolatePermitido = limiteCalorico/caloriasChocolate\n",
        "\n",
        "print(f\"Usted tiene permitido comer: {chocolatePermitido} porciones por día\")"
      ],
      "metadata": {
        "colab": {
          "base_uri": "https://localhost:8080/"
        },
        "id": "vsDE6pTDlTG-",
        "outputId": "07f615f8-df87-4613-919a-6ab3111964e5"
      },
      "execution_count": null,
      "outputs": [
        {
          "output_type": "stream",
          "name": "stdout",
          "text": [
            "Cuantas calorías puede consumir diariamente?: 20\n",
            "Cuantas calorías tiene una porción de chocolate?: 5\n",
            "Usted tiene permitido comer: 4.0 porciones por día\n"
          ]
        }
      ]
    },
    {
      "cell_type": "markdown",
      "source": [
        "Consulto acerca de la cantidad de calorías que puede consumir el individuo, y la cantidad de calorías que contiene una porción de chocolate, luego las divido entre sí, para obtener la cantidad máxima de porciones que puede comer durante el día para no excederse de su limite calórico."
      ],
      "metadata": {
        "id": "Cs4yWl-RmTep"
      }
    }
  ]
}